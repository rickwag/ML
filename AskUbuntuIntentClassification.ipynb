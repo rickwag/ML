{
  "nbformat": 4,
  "nbformat_minor": 0,
  "metadata": {
    "colab": {
      "name": "AskUbuntuIntentClassification.ipynb",
      "provenance": [],
      "mount_file_id": "1JFSTrqlKjoz2hSAXPCcvQtY--9w760fy",
      "authorship_tag": "ABX9TyNoSWuJu/T19ZK0UgU8YQNH",
      "include_colab_link": true
    },
    "kernelspec": {
      "name": "python3",
      "display_name": "Python 3"
    },
    "language_info": {
      "name": "python"
    }
  },
  "cells": [
    {
      "cell_type": "markdown",
      "metadata": {
        "id": "view-in-github",
        "colab_type": "text"
      },
      "source": [
        "<a href=\"https://colab.research.google.com/github/rickwag/ML/blob/main/AskUbuntuIntentClassification.ipynb\" target=\"_parent\"><img src=\"https://colab.research.google.com/assets/colab-badge.svg\" alt=\"Open In Colab\"/></a>"
      ]
    },
    {
      "cell_type": "code",
      "source": [
        "from google.colab import drive\n",
        "drive.mount('/content/drive')"
      ],
      "metadata": {
        "id": "TtgP6z8bafeh"
      },
      "execution_count": null,
      "outputs": []
    },
    {
      "cell_type": "markdown",
      "source": [
        "## Data Acquisation"
      ],
      "metadata": {
        "id": "OxSW4tDrbA1Q"
      }
    },
    {
      "cell_type": "code",
      "execution_count": 1,
      "metadata": {
        "id": "aTysEhIhPVjl"
      },
      "outputs": [],
      "source": [
        "data_path = \"/content/drive/MyDrive/Datasets/AskUbuntu Corpus.json\""
      ]
    },
    {
      "cell_type": "code",
      "source": [
        "import pandas as pd\n",
        "import json"
      ],
      "metadata": {
        "id": "J1Xw9SNaa8lh"
      },
      "execution_count": 2,
      "outputs": []
    },
    {
      "cell_type": "code",
      "source": [
        "with open(data_path, encoding=\"utf-8\") as file:\n",
        "    data = json.load(file)"
      ],
      "metadata": {
        "id": "zXnHwd3obC2r"
      },
      "execution_count": 3,
      "outputs": []
    },
    {
      "cell_type": "code",
      "source": [
        "#sample questions\n",
        "for n in range(5):\n",
        "    print(data[\"sentences\"][n][\"text\"])"
      ],
      "metadata": {
        "colab": {
          "base_uri": "https://localhost:8080/"
        },
        "id": "9otiqlFFbFfa",
        "outputId": "649f7cf1-340f-4916-a439-da950d464053"
      },
      "execution_count": 4,
      "outputs": [
        {
          "output_type": "stream",
          "name": "stdout",
          "text": [
            "What software can I use to view epub documents?\n",
            "Which PDF Viewer would you recommend?\n",
            "What IDEs are available for Ubuntu?\n",
            "What's the best Mind Mapping Software?\n",
            "Software to read a QR code?\n"
          ]
        }
      ]
    },
    {
      "cell_type": "code",
      "source": [
        "from IPython.core.display import HTML\n",
        "\n",
        "#sample responses\n",
        "for n in range(1):\n",
        "    display(HTML(data[\"sentences\"][n][\"answer\"][\"text\"]))"
      ],
      "metadata": {
        "colab": {
          "base_uri": "https://localhost:8080/",
          "height": 527
        },
        "id": "PLCDRU64bHsj",
        "outputId": "95090f31-812c-4367-b9b3-1dbda92f009c"
      },
      "execution_count": 5,
      "outputs": [
        {
          "output_type": "display_data",
          "data": {
            "text/plain": [
              "<IPython.core.display.HTML object>"
            ],
            "text/html": [
              "<p>You can use calibre software for viewing .epub documents.</p>\n",
              "\n",
              "<p>To install calibre from terminal:</p>\n",
              "\n",
              "<pre><code>sudo apt-get install calibre\n",
              "</code></pre>\n",
              "\n",
              "<p>Or click the icon below.</p>\n",
              "\n",
              "<h1><a href=\"http://packages.ubuntu.com/calibre\" rel=\"nofollow noreferrer\">calibre</a> <a href=\"http://apt.ubuntu.com/p/calibre\" rel=\"nofollow noreferrer\"><img src=\"https://hostmar.co/software-large\" alt=\"Install calibre\"></a></h1>\n",
              "\n",
              "<hr>\n",
              "\n",
              "<p>If you don't want to launch the full <code>calibre</code> client just to view your ebook files you can add a <code>.desktop</code> launcher to <code>calibre</code>'s inbuilt ebook viewer:</p>\n",
              "\n",
              "<ol>\n",
              "<li><p>Create a new <code>.desktop</code> file in <code>~/.local/share/applications</code>:</p>\n",
              "\n",
              "<pre><code>gedit ~/.local/share/applications/calibre-ebook-viewer.desktop\n",
              "</code></pre></li>\n",
              "<li><p>Copy and paste the following passage into the file:</p>\n",
              "\n",
              "<pre><code>#!/usr/bin/env xdg-open\n",
              "\n",
              "[Desktop Entry]\n",
              "Version=1.0\n",
              "Type=Application\n",
              "Terminal=false\n",
              "Icon=calibre\n",
              "Exec=ebook-viewer\n",
              "Name=Calibre Ebook Viewer\n",
              "Comment=Display .epub files and other ebook formats\n",
              "MimeType=application/x-mobipocket-ebook;application/epub+zip;\n",
              "StartupWMClass=calibre-ebook-viewer\n",
              "</code></pre></li>\n",
              "<li><p>Save the file. You should now be able to launch Calibre's inbuilt ebook viewer both from the dash and through the right click \"Open with\" menu.</p></li>\n",
              "</ol>\n"
            ]
          },
          "metadata": {}
        }
      ]
    },
    {
      "cell_type": "code",
      "source": [
        "len(data[\"sentences\"])"
      ],
      "metadata": {
        "colab": {
          "base_uri": "https://localhost:8080/"
        },
        "id": "TV58v01abJu2",
        "outputId": "cd485c35-890e-4303-fdfd-479e8a5c91b1"
      },
      "execution_count": 6,
      "outputs": [
        {
          "output_type": "execute_result",
          "data": {
            "text/plain": [
              "162"
            ]
          },
          "metadata": {},
          "execution_count": 6
        }
      ]
    },
    {
      "cell_type": "code",
      "source": [
        "df = pd.DataFrame(data[\"sentences\"])\n",
        "df.head(5)"
      ],
      "metadata": {
        "colab": {
          "base_uri": "https://localhost:8080/",
          "height": 337
        },
        "id": "nJvoc1cXbMHR",
        "outputId": "78a8deee-8ac1-46c9-de45-eaa745caecb5"
      },
      "execution_count": 7,
      "outputs": [
        {
          "output_type": "execute_result",
          "data": {
            "text/plain": [
              "            author                                                url  \\\n",
              "0  Olivier Lalonde  http://askubuntu.com/questions/14378/what-soft...   \n",
              "1              NES  http://askubuntu.com/questions/18495/which-pdf...   \n",
              "2       RolandiXor  http://askubuntu.com/questions/48299/what-ides...   \n",
              "3    Mark Davidson  http://askubuntu.com/questions/622/whats-the-b...   \n",
              "4         Benjamin  http://askubuntu.com/questions/22871/software-...   \n",
              "\n",
              "                                              text entities  \\\n",
              "0  What software can I use to view epub documents?       []   \n",
              "1            Which PDF Viewer would you recommend?       []   \n",
              "2              What IDEs are available for Ubuntu?       []   \n",
              "3           What's the best Mind Mapping Software?       []   \n",
              "4                      Software to read a QR code?       []   \n",
              "\n",
              "                    intent                                             answer  \\\n",
              "0  Software Recommendation  {'text': '<p>You can use calibre software for ...   \n",
              "1  Software Recommendation  {'text': '<p>Here are some well known PDF read...   \n",
              "2  Software Recommendation  {'text': '<h1><a href=\"http://www.geany.org/\" ...   \n",
              "3  Software Recommendation  {'text': '<p>I like <a href=\"https://apps.ubun...   \n",
              "4  Software Recommendation  {'text': '<p><strong>FOR QR CODE</strong></p>\n",
              "...   \n",
              "\n",
              "   training  \n",
              "0     False  \n",
              "1     False  \n",
              "2     False  \n",
              "3     False  \n",
              "4     False  "
            ],
            "text/html": [
              "\n",
              "  <div id=\"df-33c0a85c-a3aa-44d0-81f9-74140e57109a\">\n",
              "    <div class=\"colab-df-container\">\n",
              "      <div>\n",
              "<style scoped>\n",
              "    .dataframe tbody tr th:only-of-type {\n",
              "        vertical-align: middle;\n",
              "    }\n",
              "\n",
              "    .dataframe tbody tr th {\n",
              "        vertical-align: top;\n",
              "    }\n",
              "\n",
              "    .dataframe thead th {\n",
              "        text-align: right;\n",
              "    }\n",
              "</style>\n",
              "<table border=\"1\" class=\"dataframe\">\n",
              "  <thead>\n",
              "    <tr style=\"text-align: right;\">\n",
              "      <th></th>\n",
              "      <th>author</th>\n",
              "      <th>url</th>\n",
              "      <th>text</th>\n",
              "      <th>entities</th>\n",
              "      <th>intent</th>\n",
              "      <th>answer</th>\n",
              "      <th>training</th>\n",
              "    </tr>\n",
              "  </thead>\n",
              "  <tbody>\n",
              "    <tr>\n",
              "      <th>0</th>\n",
              "      <td>Olivier Lalonde</td>\n",
              "      <td>http://askubuntu.com/questions/14378/what-soft...</td>\n",
              "      <td>What software can I use to view epub documents?</td>\n",
              "      <td>[]</td>\n",
              "      <td>Software Recommendation</td>\n",
              "      <td>{'text': '&lt;p&gt;You can use calibre software for ...</td>\n",
              "      <td>False</td>\n",
              "    </tr>\n",
              "    <tr>\n",
              "      <th>1</th>\n",
              "      <td>NES</td>\n",
              "      <td>http://askubuntu.com/questions/18495/which-pdf...</td>\n",
              "      <td>Which PDF Viewer would you recommend?</td>\n",
              "      <td>[]</td>\n",
              "      <td>Software Recommendation</td>\n",
              "      <td>{'text': '&lt;p&gt;Here are some well known PDF read...</td>\n",
              "      <td>False</td>\n",
              "    </tr>\n",
              "    <tr>\n",
              "      <th>2</th>\n",
              "      <td>RolandiXor</td>\n",
              "      <td>http://askubuntu.com/questions/48299/what-ides...</td>\n",
              "      <td>What IDEs are available for Ubuntu?</td>\n",
              "      <td>[]</td>\n",
              "      <td>Software Recommendation</td>\n",
              "      <td>{'text': '&lt;h1&gt;&lt;a href=\"http://www.geany.org/\" ...</td>\n",
              "      <td>False</td>\n",
              "    </tr>\n",
              "    <tr>\n",
              "      <th>3</th>\n",
              "      <td>Mark Davidson</td>\n",
              "      <td>http://askubuntu.com/questions/622/whats-the-b...</td>\n",
              "      <td>What's the best Mind Mapping Software?</td>\n",
              "      <td>[]</td>\n",
              "      <td>Software Recommendation</td>\n",
              "      <td>{'text': '&lt;p&gt;I like &lt;a href=\"https://apps.ubun...</td>\n",
              "      <td>False</td>\n",
              "    </tr>\n",
              "    <tr>\n",
              "      <th>4</th>\n",
              "      <td>Benjamin</td>\n",
              "      <td>http://askubuntu.com/questions/22871/software-...</td>\n",
              "      <td>Software to read a QR code?</td>\n",
              "      <td>[]</td>\n",
              "      <td>Software Recommendation</td>\n",
              "      <td>{'text': '&lt;p&gt;&lt;strong&gt;FOR QR CODE&lt;/strong&gt;&lt;/p&gt;\n",
              "...</td>\n",
              "      <td>False</td>\n",
              "    </tr>\n",
              "  </tbody>\n",
              "</table>\n",
              "</div>\n",
              "      <button class=\"colab-df-convert\" onclick=\"convertToInteractive('df-33c0a85c-a3aa-44d0-81f9-74140e57109a')\"\n",
              "              title=\"Convert this dataframe to an interactive table.\"\n",
              "              style=\"display:none;\">\n",
              "        \n",
              "  <svg xmlns=\"http://www.w3.org/2000/svg\" height=\"24px\"viewBox=\"0 0 24 24\"\n",
              "       width=\"24px\">\n",
              "    <path d=\"M0 0h24v24H0V0z\" fill=\"none\"/>\n",
              "    <path d=\"M18.56 5.44l.94 2.06.94-2.06 2.06-.94-2.06-.94-.94-2.06-.94 2.06-2.06.94zm-11 1L8.5 8.5l.94-2.06 2.06-.94-2.06-.94L8.5 2.5l-.94 2.06-2.06.94zm10 10l.94 2.06.94-2.06 2.06-.94-2.06-.94-.94-2.06-.94 2.06-2.06.94z\"/><path d=\"M17.41 7.96l-1.37-1.37c-.4-.4-.92-.59-1.43-.59-.52 0-1.04.2-1.43.59L10.3 9.45l-7.72 7.72c-.78.78-.78 2.05 0 2.83L4 21.41c.39.39.9.59 1.41.59.51 0 1.02-.2 1.41-.59l7.78-7.78 2.81-2.81c.8-.78.8-2.07 0-2.86zM5.41 20L4 18.59l7.72-7.72 1.47 1.35L5.41 20z\"/>\n",
              "  </svg>\n",
              "      </button>\n",
              "      \n",
              "  <style>\n",
              "    .colab-df-container {\n",
              "      display:flex;\n",
              "      flex-wrap:wrap;\n",
              "      gap: 12px;\n",
              "    }\n",
              "\n",
              "    .colab-df-convert {\n",
              "      background-color: #E8F0FE;\n",
              "      border: none;\n",
              "      border-radius: 50%;\n",
              "      cursor: pointer;\n",
              "      display: none;\n",
              "      fill: #1967D2;\n",
              "      height: 32px;\n",
              "      padding: 0 0 0 0;\n",
              "      width: 32px;\n",
              "    }\n",
              "\n",
              "    .colab-df-convert:hover {\n",
              "      background-color: #E2EBFA;\n",
              "      box-shadow: 0px 1px 2px rgba(60, 64, 67, 0.3), 0px 1px 3px 1px rgba(60, 64, 67, 0.15);\n",
              "      fill: #174EA6;\n",
              "    }\n",
              "\n",
              "    [theme=dark] .colab-df-convert {\n",
              "      background-color: #3B4455;\n",
              "      fill: #D2E3FC;\n",
              "    }\n",
              "\n",
              "    [theme=dark] .colab-df-convert:hover {\n",
              "      background-color: #434B5C;\n",
              "      box-shadow: 0px 1px 3px 1px rgba(0, 0, 0, 0.15);\n",
              "      filter: drop-shadow(0px 1px 2px rgba(0, 0, 0, 0.3));\n",
              "      fill: #FFFFFF;\n",
              "    }\n",
              "  </style>\n",
              "\n",
              "      <script>\n",
              "        const buttonEl =\n",
              "          document.querySelector('#df-33c0a85c-a3aa-44d0-81f9-74140e57109a button.colab-df-convert');\n",
              "        buttonEl.style.display =\n",
              "          google.colab.kernel.accessAllowed ? 'block' : 'none';\n",
              "\n",
              "        async function convertToInteractive(key) {\n",
              "          const element = document.querySelector('#df-33c0a85c-a3aa-44d0-81f9-74140e57109a');\n",
              "          const dataTable =\n",
              "            await google.colab.kernel.invokeFunction('convertToInteractive',\n",
              "                                                     [key], {});\n",
              "          if (!dataTable) return;\n",
              "\n",
              "          const docLinkHtml = 'Like what you see? Visit the ' +\n",
              "            '<a target=\"_blank\" href=https://colab.research.google.com/notebooks/data_table.ipynb>data table notebook</a>'\n",
              "            + ' to learn more about interactive tables.';\n",
              "          element.innerHTML = '';\n",
              "          dataTable['output_type'] = 'display_data';\n",
              "          await google.colab.output.renderOutput(dataTable, element);\n",
              "          const docLink = document.createElement('div');\n",
              "          docLink.innerHTML = docLinkHtml;\n",
              "          element.appendChild(docLink);\n",
              "        }\n",
              "      </script>\n",
              "    </div>\n",
              "  </div>\n",
              "  "
            ]
          },
          "metadata": {},
          "execution_count": 7
        }
      ]
    },
    {
      "cell_type": "code",
      "source": [
        "#classes\n",
        "df[\"intent\"].unique()"
      ],
      "metadata": {
        "colab": {
          "base_uri": "https://localhost:8080/"
        },
        "id": "lv_NedZlbPDg",
        "outputId": "35df7e8c-f717-4cc2-b53d-9ab47504f279"
      },
      "execution_count": 8,
      "outputs": [
        {
          "output_type": "execute_result",
          "data": {
            "text/plain": [
              "array(['Software Recommendation', 'None', 'Shutdown Computer',\n",
              "       'Make Update', 'Setup Printer'], dtype=object)"
            ]
          },
          "metadata": {},
          "execution_count": 8
        }
      ]
    },
    {
      "cell_type": "markdown",
      "source": [
        "## Text Preprocessing"
      ],
      "metadata": {
        "id": "5FLv2MU3bU8K"
      }
    },
    {
      "cell_type": "code",
      "source": [
        "#lowercasing\n",
        "df[\"text\"] = [entry.lower() for entry in df[\"text\"]]\n",
        "\n",
        "df.head(2)"
      ],
      "metadata": {
        "colab": {
          "base_uri": "https://localhost:8080/",
          "height": 191
        },
        "id": "T1Rp8DkmbTHr",
        "outputId": "843f61ed-9861-4d34-b88a-0fe8c3d6827e"
      },
      "execution_count": 9,
      "outputs": [
        {
          "output_type": "execute_result",
          "data": {
            "text/plain": [
              "            author                                                url  \\\n",
              "0  Olivier Lalonde  http://askubuntu.com/questions/14378/what-soft...   \n",
              "1              NES  http://askubuntu.com/questions/18495/which-pdf...   \n",
              "\n",
              "                                              text entities  \\\n",
              "0  what software can i use to view epub documents?       []   \n",
              "1            which pdf viewer would you recommend?       []   \n",
              "\n",
              "                    intent                                             answer  \\\n",
              "0  Software Recommendation  {'text': '<p>You can use calibre software for ...   \n",
              "1  Software Recommendation  {'text': '<p>Here are some well known PDF read...   \n",
              "\n",
              "   training  \n",
              "0     False  \n",
              "1     False  "
            ],
            "text/html": [
              "\n",
              "  <div id=\"df-9afab1df-5901-47d8-9c6c-68ca2db32bf6\">\n",
              "    <div class=\"colab-df-container\">\n",
              "      <div>\n",
              "<style scoped>\n",
              "    .dataframe tbody tr th:only-of-type {\n",
              "        vertical-align: middle;\n",
              "    }\n",
              "\n",
              "    .dataframe tbody tr th {\n",
              "        vertical-align: top;\n",
              "    }\n",
              "\n",
              "    .dataframe thead th {\n",
              "        text-align: right;\n",
              "    }\n",
              "</style>\n",
              "<table border=\"1\" class=\"dataframe\">\n",
              "  <thead>\n",
              "    <tr style=\"text-align: right;\">\n",
              "      <th></th>\n",
              "      <th>author</th>\n",
              "      <th>url</th>\n",
              "      <th>text</th>\n",
              "      <th>entities</th>\n",
              "      <th>intent</th>\n",
              "      <th>answer</th>\n",
              "      <th>training</th>\n",
              "    </tr>\n",
              "  </thead>\n",
              "  <tbody>\n",
              "    <tr>\n",
              "      <th>0</th>\n",
              "      <td>Olivier Lalonde</td>\n",
              "      <td>http://askubuntu.com/questions/14378/what-soft...</td>\n",
              "      <td>what software can i use to view epub documents?</td>\n",
              "      <td>[]</td>\n",
              "      <td>Software Recommendation</td>\n",
              "      <td>{'text': '&lt;p&gt;You can use calibre software for ...</td>\n",
              "      <td>False</td>\n",
              "    </tr>\n",
              "    <tr>\n",
              "      <th>1</th>\n",
              "      <td>NES</td>\n",
              "      <td>http://askubuntu.com/questions/18495/which-pdf...</td>\n",
              "      <td>which pdf viewer would you recommend?</td>\n",
              "      <td>[]</td>\n",
              "      <td>Software Recommendation</td>\n",
              "      <td>{'text': '&lt;p&gt;Here are some well known PDF read...</td>\n",
              "      <td>False</td>\n",
              "    </tr>\n",
              "  </tbody>\n",
              "</table>\n",
              "</div>\n",
              "      <button class=\"colab-df-convert\" onclick=\"convertToInteractive('df-9afab1df-5901-47d8-9c6c-68ca2db32bf6')\"\n",
              "              title=\"Convert this dataframe to an interactive table.\"\n",
              "              style=\"display:none;\">\n",
              "        \n",
              "  <svg xmlns=\"http://www.w3.org/2000/svg\" height=\"24px\"viewBox=\"0 0 24 24\"\n",
              "       width=\"24px\">\n",
              "    <path d=\"M0 0h24v24H0V0z\" fill=\"none\"/>\n",
              "    <path d=\"M18.56 5.44l.94 2.06.94-2.06 2.06-.94-2.06-.94-.94-2.06-.94 2.06-2.06.94zm-11 1L8.5 8.5l.94-2.06 2.06-.94-2.06-.94L8.5 2.5l-.94 2.06-2.06.94zm10 10l.94 2.06.94-2.06 2.06-.94-2.06-.94-.94-2.06-.94 2.06-2.06.94z\"/><path d=\"M17.41 7.96l-1.37-1.37c-.4-.4-.92-.59-1.43-.59-.52 0-1.04.2-1.43.59L10.3 9.45l-7.72 7.72c-.78.78-.78 2.05 0 2.83L4 21.41c.39.39.9.59 1.41.59.51 0 1.02-.2 1.41-.59l7.78-7.78 2.81-2.81c.8-.78.8-2.07 0-2.86zM5.41 20L4 18.59l7.72-7.72 1.47 1.35L5.41 20z\"/>\n",
              "  </svg>\n",
              "      </button>\n",
              "      \n",
              "  <style>\n",
              "    .colab-df-container {\n",
              "      display:flex;\n",
              "      flex-wrap:wrap;\n",
              "      gap: 12px;\n",
              "    }\n",
              "\n",
              "    .colab-df-convert {\n",
              "      background-color: #E8F0FE;\n",
              "      border: none;\n",
              "      border-radius: 50%;\n",
              "      cursor: pointer;\n",
              "      display: none;\n",
              "      fill: #1967D2;\n",
              "      height: 32px;\n",
              "      padding: 0 0 0 0;\n",
              "      width: 32px;\n",
              "    }\n",
              "\n",
              "    .colab-df-convert:hover {\n",
              "      background-color: #E2EBFA;\n",
              "      box-shadow: 0px 1px 2px rgba(60, 64, 67, 0.3), 0px 1px 3px 1px rgba(60, 64, 67, 0.15);\n",
              "      fill: #174EA6;\n",
              "    }\n",
              "\n",
              "    [theme=dark] .colab-df-convert {\n",
              "      background-color: #3B4455;\n",
              "      fill: #D2E3FC;\n",
              "    }\n",
              "\n",
              "    [theme=dark] .colab-df-convert:hover {\n",
              "      background-color: #434B5C;\n",
              "      box-shadow: 0px 1px 3px 1px rgba(0, 0, 0, 0.15);\n",
              "      filter: drop-shadow(0px 1px 2px rgba(0, 0, 0, 0.3));\n",
              "      fill: #FFFFFF;\n",
              "    }\n",
              "  </style>\n",
              "\n",
              "      <script>\n",
              "        const buttonEl =\n",
              "          document.querySelector('#df-9afab1df-5901-47d8-9c6c-68ca2db32bf6 button.colab-df-convert');\n",
              "        buttonEl.style.display =\n",
              "          google.colab.kernel.accessAllowed ? 'block' : 'none';\n",
              "\n",
              "        async function convertToInteractive(key) {\n",
              "          const element = document.querySelector('#df-9afab1df-5901-47d8-9c6c-68ca2db32bf6');\n",
              "          const dataTable =\n",
              "            await google.colab.kernel.invokeFunction('convertToInteractive',\n",
              "                                                     [key], {});\n",
              "          if (!dataTable) return;\n",
              "\n",
              "          const docLinkHtml = 'Like what you see? Visit the ' +\n",
              "            '<a target=\"_blank\" href=https://colab.research.google.com/notebooks/data_table.ipynb>data table notebook</a>'\n",
              "            + ' to learn more about interactive tables.';\n",
              "          element.innerHTML = '';\n",
              "          dataTable['output_type'] = 'display_data';\n",
              "          await google.colab.output.renderOutput(dataTable, element);\n",
              "          const docLink = document.createElement('div');\n",
              "          docLink.innerHTML = docLinkHtml;\n",
              "          element.appendChild(docLink);\n",
              "        }\n",
              "      </script>\n",
              "    </div>\n",
              "  </div>\n",
              "  "
            ]
          },
          "metadata": {},
          "execution_count": 9
        }
      ]
    },
    {
      "cell_type": "code",
      "source": [
        "#tokenization\n",
        "import nltk\n",
        "from nltk.tokenize import word_tokenize\n",
        "nltk.download(\"punkt\")\n",
        "\n",
        "df[\"text\"] = [word_tokenize(entry) for entry in df[\"text\"]]\n",
        "\n",
        "df.head(2)"
      ],
      "metadata": {
        "colab": {
          "base_uri": "https://localhost:8080/",
          "height": 226
        },
        "id": "lpl00jXSbXkg",
        "outputId": "f3865f3d-9f7e-425b-c5ec-d9f62ffcd435"
      },
      "execution_count": 10,
      "outputs": [
        {
          "output_type": "stream",
          "name": "stderr",
          "text": [
            "[nltk_data] Downloading package punkt to /root/nltk_data...\n",
            "[nltk_data]   Unzipping tokenizers/punkt.zip.\n"
          ]
        },
        {
          "output_type": "execute_result",
          "data": {
            "text/plain": [
              "            author                                                url  \\\n",
              "0  Olivier Lalonde  http://askubuntu.com/questions/14378/what-soft...   \n",
              "1              NES  http://askubuntu.com/questions/18495/which-pdf...   \n",
              "\n",
              "                                                text entities  \\\n",
              "0  [what, software, can, i, use, to, view, epub, ...       []   \n",
              "1     [which, pdf, viewer, would, you, recommend, ?]       []   \n",
              "\n",
              "                    intent                                             answer  \\\n",
              "0  Software Recommendation  {'text': '<p>You can use calibre software for ...   \n",
              "1  Software Recommendation  {'text': '<p>Here are some well known PDF read...   \n",
              "\n",
              "   training  \n",
              "0     False  \n",
              "1     False  "
            ],
            "text/html": [
              "\n",
              "  <div id=\"df-6bbc93d1-25be-4d67-9a29-381ac37d4384\">\n",
              "    <div class=\"colab-df-container\">\n",
              "      <div>\n",
              "<style scoped>\n",
              "    .dataframe tbody tr th:only-of-type {\n",
              "        vertical-align: middle;\n",
              "    }\n",
              "\n",
              "    .dataframe tbody tr th {\n",
              "        vertical-align: top;\n",
              "    }\n",
              "\n",
              "    .dataframe thead th {\n",
              "        text-align: right;\n",
              "    }\n",
              "</style>\n",
              "<table border=\"1\" class=\"dataframe\">\n",
              "  <thead>\n",
              "    <tr style=\"text-align: right;\">\n",
              "      <th></th>\n",
              "      <th>author</th>\n",
              "      <th>url</th>\n",
              "      <th>text</th>\n",
              "      <th>entities</th>\n",
              "      <th>intent</th>\n",
              "      <th>answer</th>\n",
              "      <th>training</th>\n",
              "    </tr>\n",
              "  </thead>\n",
              "  <tbody>\n",
              "    <tr>\n",
              "      <th>0</th>\n",
              "      <td>Olivier Lalonde</td>\n",
              "      <td>http://askubuntu.com/questions/14378/what-soft...</td>\n",
              "      <td>[what, software, can, i, use, to, view, epub, ...</td>\n",
              "      <td>[]</td>\n",
              "      <td>Software Recommendation</td>\n",
              "      <td>{'text': '&lt;p&gt;You can use calibre software for ...</td>\n",
              "      <td>False</td>\n",
              "    </tr>\n",
              "    <tr>\n",
              "      <th>1</th>\n",
              "      <td>NES</td>\n",
              "      <td>http://askubuntu.com/questions/18495/which-pdf...</td>\n",
              "      <td>[which, pdf, viewer, would, you, recommend, ?]</td>\n",
              "      <td>[]</td>\n",
              "      <td>Software Recommendation</td>\n",
              "      <td>{'text': '&lt;p&gt;Here are some well known PDF read...</td>\n",
              "      <td>False</td>\n",
              "    </tr>\n",
              "  </tbody>\n",
              "</table>\n",
              "</div>\n",
              "      <button class=\"colab-df-convert\" onclick=\"convertToInteractive('df-6bbc93d1-25be-4d67-9a29-381ac37d4384')\"\n",
              "              title=\"Convert this dataframe to an interactive table.\"\n",
              "              style=\"display:none;\">\n",
              "        \n",
              "  <svg xmlns=\"http://www.w3.org/2000/svg\" height=\"24px\"viewBox=\"0 0 24 24\"\n",
              "       width=\"24px\">\n",
              "    <path d=\"M0 0h24v24H0V0z\" fill=\"none\"/>\n",
              "    <path d=\"M18.56 5.44l.94 2.06.94-2.06 2.06-.94-2.06-.94-.94-2.06-.94 2.06-2.06.94zm-11 1L8.5 8.5l.94-2.06 2.06-.94-2.06-.94L8.5 2.5l-.94 2.06-2.06.94zm10 10l.94 2.06.94-2.06 2.06-.94-2.06-.94-.94-2.06-.94 2.06-2.06.94z\"/><path d=\"M17.41 7.96l-1.37-1.37c-.4-.4-.92-.59-1.43-.59-.52 0-1.04.2-1.43.59L10.3 9.45l-7.72 7.72c-.78.78-.78 2.05 0 2.83L4 21.41c.39.39.9.59 1.41.59.51 0 1.02-.2 1.41-.59l7.78-7.78 2.81-2.81c.8-.78.8-2.07 0-2.86zM5.41 20L4 18.59l7.72-7.72 1.47 1.35L5.41 20z\"/>\n",
              "  </svg>\n",
              "      </button>\n",
              "      \n",
              "  <style>\n",
              "    .colab-df-container {\n",
              "      display:flex;\n",
              "      flex-wrap:wrap;\n",
              "      gap: 12px;\n",
              "    }\n",
              "\n",
              "    .colab-df-convert {\n",
              "      background-color: #E8F0FE;\n",
              "      border: none;\n",
              "      border-radius: 50%;\n",
              "      cursor: pointer;\n",
              "      display: none;\n",
              "      fill: #1967D2;\n",
              "      height: 32px;\n",
              "      padding: 0 0 0 0;\n",
              "      width: 32px;\n",
              "    }\n",
              "\n",
              "    .colab-df-convert:hover {\n",
              "      background-color: #E2EBFA;\n",
              "      box-shadow: 0px 1px 2px rgba(60, 64, 67, 0.3), 0px 1px 3px 1px rgba(60, 64, 67, 0.15);\n",
              "      fill: #174EA6;\n",
              "    }\n",
              "\n",
              "    [theme=dark] .colab-df-convert {\n",
              "      background-color: #3B4455;\n",
              "      fill: #D2E3FC;\n",
              "    }\n",
              "\n",
              "    [theme=dark] .colab-df-convert:hover {\n",
              "      background-color: #434B5C;\n",
              "      box-shadow: 0px 1px 3px 1px rgba(0, 0, 0, 0.15);\n",
              "      filter: drop-shadow(0px 1px 2px rgba(0, 0, 0, 0.3));\n",
              "      fill: #FFFFFF;\n",
              "    }\n",
              "  </style>\n",
              "\n",
              "      <script>\n",
              "        const buttonEl =\n",
              "          document.querySelector('#df-6bbc93d1-25be-4d67-9a29-381ac37d4384 button.colab-df-convert');\n",
              "        buttonEl.style.display =\n",
              "          google.colab.kernel.accessAllowed ? 'block' : 'none';\n",
              "\n",
              "        async function convertToInteractive(key) {\n",
              "          const element = document.querySelector('#df-6bbc93d1-25be-4d67-9a29-381ac37d4384');\n",
              "          const dataTable =\n",
              "            await google.colab.kernel.invokeFunction('convertToInteractive',\n",
              "                                                     [key], {});\n",
              "          if (!dataTable) return;\n",
              "\n",
              "          const docLinkHtml = 'Like what you see? Visit the ' +\n",
              "            '<a target=\"_blank\" href=https://colab.research.google.com/notebooks/data_table.ipynb>data table notebook</a>'\n",
              "            + ' to learn more about interactive tables.';\n",
              "          element.innerHTML = '';\n",
              "          dataTable['output_type'] = 'display_data';\n",
              "          await google.colab.output.renderOutput(dataTable, element);\n",
              "          const docLink = document.createElement('div');\n",
              "          docLink.innerHTML = docLinkHtml;\n",
              "          element.appendChild(docLink);\n",
              "        }\n",
              "      </script>\n",
              "    </div>\n",
              "  </div>\n",
              "  "
            ]
          },
          "metadata": {},
          "execution_count": 10
        }
      ]
    },
    {
      "cell_type": "code",
      "source": [
        "#stopwords removal and lemmatization\n",
        "from nltk.stem.wordnet import WordNetLemmatizer\n",
        "\n",
        "nltk.download(\"stopwords\")\n",
        "nltk.download(\"wordnet\")\n",
        "nltk.download(\"omw-1.4\")\n",
        "\n",
        "from nltk.corpus import stopwords\n",
        "\n",
        "lemmatizer = WordNetLemmatizer()\n",
        "\n",
        "for index, doc in enumerate(df[\"text\"]):\n",
        "  new_doc = []\n",
        "  for token in doc:\n",
        "    if token not in stopwords.words(\"english\"):\n",
        "      token = lemmatizer.lemmatize(token) \n",
        "      new_doc.append(token)\n",
        "\n",
        "  df.loc[index, \"final_text\"] = str(new_doc)\n",
        "\n",
        "df.head(5)"
      ],
      "metadata": {
        "colab": {
          "base_uri": "https://localhost:8080/",
          "height": 476
        },
        "id": "fVhONuj0bauG",
        "outputId": "0e30ff1e-9a37-4d25-8235-0f98a6d56f3c"
      },
      "execution_count": 11,
      "outputs": [
        {
          "output_type": "stream",
          "name": "stderr",
          "text": [
            "[nltk_data] Downloading package stopwords to /root/nltk_data...\n",
            "[nltk_data]   Unzipping corpora/stopwords.zip.\n",
            "[nltk_data] Downloading package wordnet to /root/nltk_data...\n",
            "[nltk_data] Downloading package omw-1.4 to /root/nltk_data...\n"
          ]
        },
        {
          "output_type": "execute_result",
          "data": {
            "text/plain": [
              "            author                                                url  \\\n",
              "0  Olivier Lalonde  http://askubuntu.com/questions/14378/what-soft...   \n",
              "1              NES  http://askubuntu.com/questions/18495/which-pdf...   \n",
              "2       RolandiXor  http://askubuntu.com/questions/48299/what-ides...   \n",
              "3    Mark Davidson  http://askubuntu.com/questions/622/whats-the-b...   \n",
              "4         Benjamin  http://askubuntu.com/questions/22871/software-...   \n",
              "\n",
              "                                                text entities  \\\n",
              "0  [what, software, can, i, use, to, view, epub, ...       []   \n",
              "1     [which, pdf, viewer, would, you, recommend, ?]       []   \n",
              "2       [what, ides, are, available, for, ubuntu, ?]       []   \n",
              "3  [what, 's, the, best, mind, mapping, software, ?]       []   \n",
              "4               [software, to, read, a, qr, code, ?]       []   \n",
              "\n",
              "                    intent                                             answer  \\\n",
              "0  Software Recommendation  {'text': '<p>You can use calibre software for ...   \n",
              "1  Software Recommendation  {'text': '<p>Here are some well known PDF read...   \n",
              "2  Software Recommendation  {'text': '<h1><a href=\"http://www.geany.org/\" ...   \n",
              "3  Software Recommendation  {'text': '<p>I like <a href=\"https://apps.ubun...   \n",
              "4  Software Recommendation  {'text': '<p><strong>FOR QR CODE</strong></p>\n",
              "...   \n",
              "\n",
              "   training                                         final_text  \n",
              "0     False  ['software', 'use', 'view', 'epub', 'document'...  \n",
              "1     False       ['pdf', 'viewer', 'would', 'recommend', '?']  \n",
              "2     False               ['ides', 'available', 'ubuntu', '?']  \n",
              "3     False  [\"'s\", 'best', 'mind', 'mapping', 'software', ...  \n",
              "4     False            ['software', 'read', 'qr', 'code', '?']  "
            ],
            "text/html": [
              "\n",
              "  <div id=\"df-46ca7752-fc3e-416a-9f97-9c1cbcedb2b6\">\n",
              "    <div class=\"colab-df-container\">\n",
              "      <div>\n",
              "<style scoped>\n",
              "    .dataframe tbody tr th:only-of-type {\n",
              "        vertical-align: middle;\n",
              "    }\n",
              "\n",
              "    .dataframe tbody tr th {\n",
              "        vertical-align: top;\n",
              "    }\n",
              "\n",
              "    .dataframe thead th {\n",
              "        text-align: right;\n",
              "    }\n",
              "</style>\n",
              "<table border=\"1\" class=\"dataframe\">\n",
              "  <thead>\n",
              "    <tr style=\"text-align: right;\">\n",
              "      <th></th>\n",
              "      <th>author</th>\n",
              "      <th>url</th>\n",
              "      <th>text</th>\n",
              "      <th>entities</th>\n",
              "      <th>intent</th>\n",
              "      <th>answer</th>\n",
              "      <th>training</th>\n",
              "      <th>final_text</th>\n",
              "    </tr>\n",
              "  </thead>\n",
              "  <tbody>\n",
              "    <tr>\n",
              "      <th>0</th>\n",
              "      <td>Olivier Lalonde</td>\n",
              "      <td>http://askubuntu.com/questions/14378/what-soft...</td>\n",
              "      <td>[what, software, can, i, use, to, view, epub, ...</td>\n",
              "      <td>[]</td>\n",
              "      <td>Software Recommendation</td>\n",
              "      <td>{'text': '&lt;p&gt;You can use calibre software for ...</td>\n",
              "      <td>False</td>\n",
              "      <td>['software', 'use', 'view', 'epub', 'document'...</td>\n",
              "    </tr>\n",
              "    <tr>\n",
              "      <th>1</th>\n",
              "      <td>NES</td>\n",
              "      <td>http://askubuntu.com/questions/18495/which-pdf...</td>\n",
              "      <td>[which, pdf, viewer, would, you, recommend, ?]</td>\n",
              "      <td>[]</td>\n",
              "      <td>Software Recommendation</td>\n",
              "      <td>{'text': '&lt;p&gt;Here are some well known PDF read...</td>\n",
              "      <td>False</td>\n",
              "      <td>['pdf', 'viewer', 'would', 'recommend', '?']</td>\n",
              "    </tr>\n",
              "    <tr>\n",
              "      <th>2</th>\n",
              "      <td>RolandiXor</td>\n",
              "      <td>http://askubuntu.com/questions/48299/what-ides...</td>\n",
              "      <td>[what, ides, are, available, for, ubuntu, ?]</td>\n",
              "      <td>[]</td>\n",
              "      <td>Software Recommendation</td>\n",
              "      <td>{'text': '&lt;h1&gt;&lt;a href=\"http://www.geany.org/\" ...</td>\n",
              "      <td>False</td>\n",
              "      <td>['ides', 'available', 'ubuntu', '?']</td>\n",
              "    </tr>\n",
              "    <tr>\n",
              "      <th>3</th>\n",
              "      <td>Mark Davidson</td>\n",
              "      <td>http://askubuntu.com/questions/622/whats-the-b...</td>\n",
              "      <td>[what, 's, the, best, mind, mapping, software, ?]</td>\n",
              "      <td>[]</td>\n",
              "      <td>Software Recommendation</td>\n",
              "      <td>{'text': '&lt;p&gt;I like &lt;a href=\"https://apps.ubun...</td>\n",
              "      <td>False</td>\n",
              "      <td>[\"'s\", 'best', 'mind', 'mapping', 'software', ...</td>\n",
              "    </tr>\n",
              "    <tr>\n",
              "      <th>4</th>\n",
              "      <td>Benjamin</td>\n",
              "      <td>http://askubuntu.com/questions/22871/software-...</td>\n",
              "      <td>[software, to, read, a, qr, code, ?]</td>\n",
              "      <td>[]</td>\n",
              "      <td>Software Recommendation</td>\n",
              "      <td>{'text': '&lt;p&gt;&lt;strong&gt;FOR QR CODE&lt;/strong&gt;&lt;/p&gt;\n",
              "...</td>\n",
              "      <td>False</td>\n",
              "      <td>['software', 'read', 'qr', 'code', '?']</td>\n",
              "    </tr>\n",
              "  </tbody>\n",
              "</table>\n",
              "</div>\n",
              "      <button class=\"colab-df-convert\" onclick=\"convertToInteractive('df-46ca7752-fc3e-416a-9f97-9c1cbcedb2b6')\"\n",
              "              title=\"Convert this dataframe to an interactive table.\"\n",
              "              style=\"display:none;\">\n",
              "        \n",
              "  <svg xmlns=\"http://www.w3.org/2000/svg\" height=\"24px\"viewBox=\"0 0 24 24\"\n",
              "       width=\"24px\">\n",
              "    <path d=\"M0 0h24v24H0V0z\" fill=\"none\"/>\n",
              "    <path d=\"M18.56 5.44l.94 2.06.94-2.06 2.06-.94-2.06-.94-.94-2.06-.94 2.06-2.06.94zm-11 1L8.5 8.5l.94-2.06 2.06-.94-2.06-.94L8.5 2.5l-.94 2.06-2.06.94zm10 10l.94 2.06.94-2.06 2.06-.94-2.06-.94-.94-2.06-.94 2.06-2.06.94z\"/><path d=\"M17.41 7.96l-1.37-1.37c-.4-.4-.92-.59-1.43-.59-.52 0-1.04.2-1.43.59L10.3 9.45l-7.72 7.72c-.78.78-.78 2.05 0 2.83L4 21.41c.39.39.9.59 1.41.59.51 0 1.02-.2 1.41-.59l7.78-7.78 2.81-2.81c.8-.78.8-2.07 0-2.86zM5.41 20L4 18.59l7.72-7.72 1.47 1.35L5.41 20z\"/>\n",
              "  </svg>\n",
              "      </button>\n",
              "      \n",
              "  <style>\n",
              "    .colab-df-container {\n",
              "      display:flex;\n",
              "      flex-wrap:wrap;\n",
              "      gap: 12px;\n",
              "    }\n",
              "\n",
              "    .colab-df-convert {\n",
              "      background-color: #E8F0FE;\n",
              "      border: none;\n",
              "      border-radius: 50%;\n",
              "      cursor: pointer;\n",
              "      display: none;\n",
              "      fill: #1967D2;\n",
              "      height: 32px;\n",
              "      padding: 0 0 0 0;\n",
              "      width: 32px;\n",
              "    }\n",
              "\n",
              "    .colab-df-convert:hover {\n",
              "      background-color: #E2EBFA;\n",
              "      box-shadow: 0px 1px 2px rgba(60, 64, 67, 0.3), 0px 1px 3px 1px rgba(60, 64, 67, 0.15);\n",
              "      fill: #174EA6;\n",
              "    }\n",
              "\n",
              "    [theme=dark] .colab-df-convert {\n",
              "      background-color: #3B4455;\n",
              "      fill: #D2E3FC;\n",
              "    }\n",
              "\n",
              "    [theme=dark] .colab-df-convert:hover {\n",
              "      background-color: #434B5C;\n",
              "      box-shadow: 0px 1px 3px 1px rgba(0, 0, 0, 0.15);\n",
              "      filter: drop-shadow(0px 1px 2px rgba(0, 0, 0, 0.3));\n",
              "      fill: #FFFFFF;\n",
              "    }\n",
              "  </style>\n",
              "\n",
              "      <script>\n",
              "        const buttonEl =\n",
              "          document.querySelector('#df-46ca7752-fc3e-416a-9f97-9c1cbcedb2b6 button.colab-df-convert');\n",
              "        buttonEl.style.display =\n",
              "          google.colab.kernel.accessAllowed ? 'block' : 'none';\n",
              "\n",
              "        async function convertToInteractive(key) {\n",
              "          const element = document.querySelector('#df-46ca7752-fc3e-416a-9f97-9c1cbcedb2b6');\n",
              "          const dataTable =\n",
              "            await google.colab.kernel.invokeFunction('convertToInteractive',\n",
              "                                                     [key], {});\n",
              "          if (!dataTable) return;\n",
              "\n",
              "          const docLinkHtml = 'Like what you see? Visit the ' +\n",
              "            '<a target=\"_blank\" href=https://colab.research.google.com/notebooks/data_table.ipynb>data table notebook</a>'\n",
              "            + ' to learn more about interactive tables.';\n",
              "          element.innerHTML = '';\n",
              "          dataTable['output_type'] = 'display_data';\n",
              "          await google.colab.output.renderOutput(dataTable, element);\n",
              "          const docLink = document.createElement('div');\n",
              "          docLink.innerHTML = docLinkHtml;\n",
              "          element.appendChild(docLink);\n",
              "        }\n",
              "      </script>\n",
              "    </div>\n",
              "  </div>\n",
              "  "
            ]
          },
          "metadata": {},
          "execution_count": 11
        }
      ]
    },
    {
      "cell_type": "code",
      "source": [
        "#train test split\n",
        "from sklearn.model_selection import train_test_split \n",
        "\n",
        "X_train, X_test, y_train, y_test = train_test_split(df[\"final_text\"], df[\"intent\"], test_size=.2)"
      ],
      "metadata": {
        "id": "e1YdIuG4dA0y"
      },
      "execution_count": 12,
      "outputs": []
    },
    {
      "cell_type": "code",
      "source": [
        "print(X_train.shape)\n",
        "print(X_test.shape)"
      ],
      "metadata": {
        "id": "cIXszP3UdVmu",
        "outputId": "ec03c240-7b6d-47d6-9def-c483bc54b5bf",
        "colab": {
          "base_uri": "https://localhost:8080/"
        }
      },
      "execution_count": 14,
      "outputs": [
        {
          "output_type": "stream",
          "name": "stdout",
          "text": [
            "(129,)\n",
            "(33,)\n"
          ]
        }
      ]
    },
    {
      "cell_type": "code",
      "source": [
        "#label encoding\n",
        "from sklearn.preprocessing import LabelEncoder\n",
        "\n",
        "encoder = LabelEncoder()\n",
        "encoder.fit(df[\"intent\"])\n",
        "\n",
        "y_train_encoded = encoder.transform(y_train)\n",
        "y_test_encoded = encoder.transform(y_test)"
      ],
      "metadata": {
        "id": "jvz0wIXBdwse"
      },
      "execution_count": 17,
      "outputs": []
    },
    {
      "cell_type": "markdown",
      "source": [
        "## Feature Engineering"
      ],
      "metadata": {
        "id": "CTiv-zGjcqzf"
      }
    },
    {
      "cell_type": "code",
      "source": [
        "#vectorization\n",
        "from sklearn.feature_extraction.text import TfidfVectorizer\n",
        "\n",
        "tfIdfVectorizer = TfidfVectorizer()\n",
        "\n",
        "tfIdfVectorizer.fit(df[\"final_text\"])\n",
        "\n",
        "X_train = tfIdfVectorizer.transform(X_train)\n",
        "X_test = tfIdfVectorizer.transform(X_test)"
      ],
      "metadata": {
        "id": "MRR9Cn7TccXB"
      },
      "execution_count": 15,
      "outputs": []
    },
    {
      "cell_type": "markdown",
      "source": [
        "## Modelling"
      ],
      "metadata": {
        "id": "D8pdJM__dqno"
      }
    },
    {
      "cell_type": "code",
      "source": [
        "#naive bayes\n",
        "from sklearn import naive_bayes\n",
        "\n",
        "naive_model = naive_bayes.MultinomialNB()\n",
        "\n",
        "#training\n",
        "naive_model.fit(X_train, y_train)"
      ],
      "metadata": {
        "id": "Yp1ZgT72db5H",
        "outputId": "7f5b1bc7-d9f3-4620-bc28-a816b2fe90c7",
        "colab": {
          "base_uri": "https://localhost:8080/"
        }
      },
      "execution_count": 18,
      "outputs": [
        {
          "output_type": "execute_result",
          "data": {
            "text/plain": [
              "MultinomialNB()"
            ]
          },
          "metadata": {},
          "execution_count": 18
        }
      ]
    },
    {
      "cell_type": "code",
      "source": [
        "#naive bayes evaluation\n",
        "y_pred_naive = naive_model.predict(X_test)\n",
        "\n",
        "from sklearn.metrics import classification_report \n",
        "\n",
        "print(classification_report(y_test, y_pred_naive))"
      ],
      "metadata": {
        "id": "ZgAqviAJeiHU",
        "outputId": "4bd44a19-510b-44ef-f63d-7444cbd2b01b",
        "colab": {
          "base_uri": "https://localhost:8080/"
        }
      },
      "execution_count": 73,
      "outputs": [
        {
          "output_type": "stream",
          "name": "stdout",
          "text": [
            "                         precision    recall  f1-score   support\n",
            "\n",
            "            Make Update       0.56      1.00      0.72         9\n",
            "                   None       0.00      0.00      0.00         1\n",
            "          Setup Printer       1.00      0.14      0.25         7\n",
            "      Shutdown Computer       1.00      0.83      0.91         6\n",
            "Software Recommendation       0.82      0.90      0.86        10\n",
            "\n",
            "               accuracy                           0.73        33\n",
            "              macro avg       0.68      0.58      0.55        33\n",
            "           weighted avg       0.80      0.73      0.67        33\n",
            "\n"
          ]
        },
        {
          "output_type": "stream",
          "name": "stderr",
          "text": [
            "/usr/local/lib/python3.7/dist-packages/sklearn/metrics/_classification.py:1318: UndefinedMetricWarning: Precision and F-score are ill-defined and being set to 0.0 in labels with no predicted samples. Use `zero_division` parameter to control this behavior.\n",
            "  _warn_prf(average, modifier, msg_start, len(result))\n",
            "/usr/local/lib/python3.7/dist-packages/sklearn/metrics/_classification.py:1318: UndefinedMetricWarning: Precision and F-score are ill-defined and being set to 0.0 in labels with no predicted samples. Use `zero_division` parameter to control this behavior.\n",
            "  _warn_prf(average, modifier, msg_start, len(result))\n",
            "/usr/local/lib/python3.7/dist-packages/sklearn/metrics/_classification.py:1318: UndefinedMetricWarning: Precision and F-score are ill-defined and being set to 0.0 in labels with no predicted samples. Use `zero_division` parameter to control this behavior.\n",
            "  _warn_prf(average, modifier, msg_start, len(result))\n"
          ]
        }
      ]
    },
    {
      "cell_type": "code",
      "source": [
        "#svm \n",
        "from sklearn import svm \n",
        "\n",
        "svm_model = svm.SVC(kernel=\"linear\", gamma=\"auto\")\n",
        "\n",
        "#training\n",
        "svm_model.fit(X_train, y_train)"
      ],
      "metadata": {
        "id": "F6-q8aTie42X",
        "outputId": "0dd127e4-df6d-43d8-8b0c-3a9d107ba738",
        "colab": {
          "base_uri": "https://localhost:8080/"
        }
      },
      "execution_count": 20,
      "outputs": [
        {
          "output_type": "execute_result",
          "data": {
            "text/plain": [
              "SVC(gamma='auto', kernel='linear')"
            ]
          },
          "metadata": {},
          "execution_count": 20
        }
      ]
    },
    {
      "cell_type": "code",
      "source": [
        "#svm evaluation\n",
        "y_pred_svm = svm_model.predict(X_test)\n",
        "\n",
        "print(classification_report(y_test, y_pred_svm))"
      ],
      "metadata": {
        "id": "2Lmb0xOifaEy",
        "outputId": "ec7d0b85-9308-42ce-bbd7-7ebb3835a493",
        "colab": {
          "base_uri": "https://localhost:8080/"
        }
      },
      "execution_count": 72,
      "outputs": [
        {
          "output_type": "stream",
          "name": "stdout",
          "text": [
            "                         precision    recall  f1-score   support\n",
            "\n",
            "            Make Update       1.00      1.00      1.00         9\n",
            "                   None       0.00      0.00      0.00         1\n",
            "          Setup Printer       1.00      0.71      0.83         7\n",
            "      Shutdown Computer       1.00      1.00      1.00         6\n",
            "Software Recommendation       0.77      1.00      0.87        10\n",
            "\n",
            "               accuracy                           0.91        33\n",
            "              macro avg       0.75      0.74      0.74        33\n",
            "           weighted avg       0.90      0.91      0.89        33\n",
            "\n"
          ]
        },
        {
          "output_type": "stream",
          "name": "stderr",
          "text": [
            "/usr/local/lib/python3.7/dist-packages/sklearn/metrics/_classification.py:1318: UndefinedMetricWarning: Precision and F-score are ill-defined and being set to 0.0 in labels with no predicted samples. Use `zero_division` parameter to control this behavior.\n",
            "  _warn_prf(average, modifier, msg_start, len(result))\n",
            "/usr/local/lib/python3.7/dist-packages/sklearn/metrics/_classification.py:1318: UndefinedMetricWarning: Precision and F-score are ill-defined and being set to 0.0 in labels with no predicted samples. Use `zero_division` parameter to control this behavior.\n",
            "  _warn_prf(average, modifier, msg_start, len(result))\n",
            "/usr/local/lib/python3.7/dist-packages/sklearn/metrics/_classification.py:1318: UndefinedMetricWarning: Precision and F-score are ill-defined and being set to 0.0 in labels with no predicted samples. Use `zero_division` parameter to control this behavior.\n",
            "  _warn_prf(average, modifier, msg_start, len(result))\n"
          ]
        }
      ]
    },
    {
      "cell_type": "code",
      "source": [
        "#Decision Tree\n",
        "from sklearn.tree import DecisionTreeClassifier\n",
        "\n",
        "decision_tree_model = DecisionTreeClassifier()\n",
        "\n",
        "#training\n",
        "decision_tree_model.fit(X_train, y_train)"
      ],
      "metadata": {
        "id": "IeHSMt07hK3E",
        "outputId": "9061a740-d2a4-4f8b-f3b8-04970a03f742",
        "colab": {
          "base_uri": "https://localhost:8080/"
        }
      },
      "execution_count": 64,
      "outputs": [
        {
          "output_type": "execute_result",
          "data": {
            "text/plain": [
              "DecisionTreeClassifier()"
            ]
          },
          "metadata": {},
          "execution_count": 64
        }
      ]
    },
    {
      "cell_type": "code",
      "source": [
        "#decision tree evaluation\n",
        "y_pred_tree = decision_tree_model.predict(X_test)\n",
        "\n",
        "print(classification_report(y_test, y_pred_tree))"
      ],
      "metadata": {
        "id": "ztvu8S9g6fE4",
        "outputId": "c42378d1-6ba3-4e7e-8098-a732e7ed4fff",
        "colab": {
          "base_uri": "https://localhost:8080/"
        }
      },
      "execution_count": 71,
      "outputs": [
        {
          "output_type": "stream",
          "name": "stdout",
          "text": [
            "                         precision    recall  f1-score   support\n",
            "\n",
            "            Make Update       0.78      0.78      0.78         9\n",
            "                   None       0.00      0.00      0.00         1\n",
            "          Setup Printer       1.00      0.57      0.73         7\n",
            "      Shutdown Computer       1.00      1.00      1.00         6\n",
            "Software Recommendation       0.71      1.00      0.83        10\n",
            "\n",
            "               accuracy                           0.82        33\n",
            "              macro avg       0.70      0.67      0.67        33\n",
            "           weighted avg       0.82      0.82      0.80        33\n",
            "\n"
          ]
        },
        {
          "output_type": "stream",
          "name": "stderr",
          "text": [
            "/usr/local/lib/python3.7/dist-packages/sklearn/metrics/_classification.py:1318: UndefinedMetricWarning: Precision and F-score are ill-defined and being set to 0.0 in labels with no predicted samples. Use `zero_division` parameter to control this behavior.\n",
            "  _warn_prf(average, modifier, msg_start, len(result))\n",
            "/usr/local/lib/python3.7/dist-packages/sklearn/metrics/_classification.py:1318: UndefinedMetricWarning: Precision and F-score are ill-defined and being set to 0.0 in labels with no predicted samples. Use `zero_division` parameter to control this behavior.\n",
            "  _warn_prf(average, modifier, msg_start, len(result))\n",
            "/usr/local/lib/python3.7/dist-packages/sklearn/metrics/_classification.py:1318: UndefinedMetricWarning: Precision and F-score are ill-defined and being set to 0.0 in labels with no predicted samples. Use `zero_division` parameter to control this behavior.\n",
            "  _warn_prf(average, modifier, msg_start, len(result))\n"
          ]
        }
      ]
    },
    {
      "cell_type": "code",
      "source": [
        "#Multi Layer Perceptron model\n",
        "from sklearn.neural_network import MLPClassifier\n",
        "\n",
        "MLP_model = MLPClassifier()\n",
        "\n",
        "#training\n",
        "MLP_model.fit(X_train, y_train)"
      ],
      "metadata": {
        "id": "LdOYJrN3-IF0",
        "outputId": "8b912a90-8010-481e-811a-e46f039ebb65",
        "colab": {
          "base_uri": "https://localhost:8080/"
        }
      },
      "execution_count": 67,
      "outputs": [
        {
          "output_type": "stream",
          "name": "stderr",
          "text": [
            "/usr/local/lib/python3.7/dist-packages/sklearn/neural_network/_multilayer_perceptron.py:696: ConvergenceWarning: Stochastic Optimizer: Maximum iterations (200) reached and the optimization hasn't converged yet.\n",
            "  ConvergenceWarning,\n"
          ]
        },
        {
          "output_type": "execute_result",
          "data": {
            "text/plain": [
              "MLPClassifier()"
            ]
          },
          "metadata": {},
          "execution_count": 67
        }
      ]
    },
    {
      "cell_type": "code",
      "source": [
        "#MLP evaluation\n",
        "y_pred_MLP = MLP_model.predict(X_test) \n",
        "\n",
        "print(classification_report(y_test, y_pred_MLP))"
      ],
      "metadata": {
        "id": "TFf28D_f-all",
        "outputId": "f49a5201-ed4f-4ad1-ba9c-4b515ba709eb",
        "colab": {
          "base_uri": "https://localhost:8080/"
        }
      },
      "execution_count": 70,
      "outputs": [
        {
          "output_type": "stream",
          "name": "stdout",
          "text": [
            "                         precision    recall  f1-score   support\n",
            "\n",
            "            Make Update       0.90      1.00      0.95         9\n",
            "                   None       0.00      0.00      0.00         1\n",
            "          Setup Printer       1.00      1.00      1.00         7\n",
            "      Shutdown Computer       1.00      1.00      1.00         6\n",
            "Software Recommendation       0.90      0.90      0.90        10\n",
            "\n",
            "               accuracy                           0.94        33\n",
            "              macro avg       0.76      0.78      0.77        33\n",
            "           weighted avg       0.91      0.94      0.93        33\n",
            "\n"
          ]
        },
        {
          "output_type": "stream",
          "name": "stderr",
          "text": [
            "/usr/local/lib/python3.7/dist-packages/sklearn/metrics/_classification.py:1318: UndefinedMetricWarning: Precision and F-score are ill-defined and being set to 0.0 in labels with no predicted samples. Use `zero_division` parameter to control this behavior.\n",
            "  _warn_prf(average, modifier, msg_start, len(result))\n",
            "/usr/local/lib/python3.7/dist-packages/sklearn/metrics/_classification.py:1318: UndefinedMetricWarning: Precision and F-score are ill-defined and being set to 0.0 in labels with no predicted samples. Use `zero_division` parameter to control this behavior.\n",
            "  _warn_prf(average, modifier, msg_start, len(result))\n",
            "/usr/local/lib/python3.7/dist-packages/sklearn/metrics/_classification.py:1318: UndefinedMetricWarning: Precision and F-score are ill-defined and being set to 0.0 in labels with no predicted samples. Use `zero_division` parameter to control this behavior.\n",
            "  _warn_prf(average, modifier, msg_start, len(result))\n"
          ]
        }
      ]
    },
    {
      "cell_type": "code",
      "source": [
        "text = \"how to view pdfs\"\n",
        "text_vec = tfIdfVectorizer.transform([text])\n",
        "svm_model.predict(text_vec)"
      ],
      "metadata": {
        "id": "g4aXm7PHgOR0",
        "outputId": "5775e7fa-5ced-4cb3-e17b-413089c0e48c",
        "colab": {
          "base_uri": "https://localhost:8080/"
        }
      },
      "execution_count": 30,
      "outputs": [
        {
          "output_type": "execute_result",
          "data": {
            "text/plain": [
              "array(['Software Recommendation'], dtype=object)"
            ]
          },
          "metadata": {},
          "execution_count": 30
        }
      ]
    },
    {
      "cell_type": "markdown",
      "source": [
        "## Evaluation"
      ],
      "metadata": {
        "id": "g0EpAwZ6ACzl"
      }
    },
    {
      "cell_type": "code",
      "source": [
        "from sklearn.metrics import precision_score, recall_score, f1_score, accuracy_score\n",
        "\n",
        "model_names = [\"Naive Bayes\", \"Support Vector Machine\", \"Decision Tree\", \"Multi Layer Perceptron\"]\n",
        "predictions = [y_pred_naive, y_pred_svm, y_pred_tree, y_pred_MLP]\n",
        "precisions = [precision_score(y_test, predictions[n], average=\"macro\") for n in range(len(predictions))]\n",
        "recalls = [recall_score(y_test, predictions[n], average=\"macro\") for n in range(len(predictions))]\n",
        "f1s = [f1_score(y_test, predictions[n], average=\"macro\") for n in range(len(predictions))]\n",
        "accuracies = [accuracy_score(y_test, predictions[n]) for n in range(len(predictions))]"
      ],
      "metadata": {
        "id": "JvZGD4v0rGJX",
        "outputId": "4ce23332-d2dc-45a9-a652-70aca5cd4046",
        "colab": {
          "base_uri": "https://localhost:8080/"
        }
      },
      "execution_count": 102,
      "outputs": [
        {
          "output_type": "stream",
          "name": "stderr",
          "text": [
            "/usr/local/lib/python3.7/dist-packages/sklearn/metrics/_classification.py:1318: UndefinedMetricWarning: Precision is ill-defined and being set to 0.0 in labels with no predicted samples. Use `zero_division` parameter to control this behavior.\n",
            "  _warn_prf(average, modifier, msg_start, len(result))\n",
            "/usr/local/lib/python3.7/dist-packages/sklearn/metrics/_classification.py:1318: UndefinedMetricWarning: Precision is ill-defined and being set to 0.0 in labels with no predicted samples. Use `zero_division` parameter to control this behavior.\n",
            "  _warn_prf(average, modifier, msg_start, len(result))\n",
            "/usr/local/lib/python3.7/dist-packages/sklearn/metrics/_classification.py:1318: UndefinedMetricWarning: Precision is ill-defined and being set to 0.0 in labels with no predicted samples. Use `zero_division` parameter to control this behavior.\n",
            "  _warn_prf(average, modifier, msg_start, len(result))\n",
            "/usr/local/lib/python3.7/dist-packages/sklearn/metrics/_classification.py:1318: UndefinedMetricWarning: Precision is ill-defined and being set to 0.0 in labels with no predicted samples. Use `zero_division` parameter to control this behavior.\n",
            "  _warn_prf(average, modifier, msg_start, len(result))\n"
          ]
        }
      ]
    },
    {
      "cell_type": "code",
      "source": [
        "data = [[model_names[n], precisions[n], recalls[n], f1s[n], accuracies[n]] for n in range(len(model_names))]\n",
        "print(data)"
      ],
      "metadata": {
        "id": "67B3OQLVQFtC",
        "outputId": "3a51b6c8-f3c4-48cd-83a3-011f40b091bf",
        "colab": {
          "base_uri": "https://localhost:8080/"
        }
      },
      "execution_count": 105,
      "outputs": [
        {
          "output_type": "stream",
          "name": "stdout",
          "text": [
            "[['Naive Bayes', 0.6761363636363636, 0.5752380952380952, 0.5472467532467532, 0.7272727272727273], ['Support Vector Machine', 0.7538461538461538, 0.7428571428571429, 0.7405797101449275, 0.9090909090909091], ['Decision Tree', 0.6984126984126984, 0.6698412698412699, 0.6676767676767676, 0.8181818181818182], ['Multi Layer Perceptron', 0.76, 0.78, 0.7694736842105263, 0.9393939393939394]]\n"
          ]
        }
      ]
    },
    {
      "cell_type": "code",
      "source": [
        "from tabulate import tabulate\n",
        "\n",
        "col_names = [\"model\", \"precision\", \"recall\", \"f1\", \"accuracy\"]\n",
        "\n",
        "print(tabulate(data, headers=col_names))"
      ],
      "metadata": {
        "id": "_ajzN5TRKYne",
        "outputId": "749f3452-3e64-4e6b-97e1-eebf947711a0",
        "colab": {
          "base_uri": "https://localhost:8080/"
        }
      },
      "execution_count": 106,
      "outputs": [
        {
          "output_type": "stream",
          "name": "stdout",
          "text": [
            "model                     precision    recall        f1    accuracy\n",
            "----------------------  -----------  --------  --------  ----------\n",
            "Naive Bayes                0.676136  0.575238  0.547247    0.727273\n",
            "Support Vector Machine     0.753846  0.742857  0.74058     0.909091\n",
            "Decision Tree              0.698413  0.669841  0.667677    0.818182\n",
            "Multi Layer Perceptron     0.76      0.78      0.769474    0.939394\n"
          ]
        }
      ]
    }
  ]
}